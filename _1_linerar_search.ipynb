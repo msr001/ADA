{
 "cells": [
  {
   "cell_type": "code",
   "execution_count": null,
   "id": "dc8e9800",
   "metadata": {},
   "outputs": [],
   "source": [
    "import time\n",
    "import random\n",
    "import matplotlib.pyplot as plt\n",
    "\n",
    "# Function to perform linear search\n",
    "def linear_search(arr, target):\n",
    "    for i in range(len(arr)):\n",
    "        if arr[i] == target:\n",
    "            return i\n",
    "    return -1\n",
    "\n",
    "# Lists to store n values and corresponding times\n",
    "n_values = []\n",
    "times = []\n",
    "\n",
    "# Repeat experiment for different n\n",
    "for n in range(1000, 10001, 1000):  # n from 1000 to 10000, step 1000\n",
    "    arr = random.sample(range(0, n*10), n)  # generate n unique random numbers\n",
    "    target = random.choice(arr)  # pick a random element from arr as the target\n",
    "\n",
    "    start_time = time.time()\n",
    "    linear_search(arr, target)\n",
    "    end_time = time.time()\n",
    "\n",
    "    elapsed_time = end_time - start_time\n",
    "    n_values.append(n)\n",
    "    times.append(elapsed_time)\n",
    "    # print(n_values)\n",
    "    # print(n)\n",
    "    # print(target)\n",
    "\n",
    "# Plotting\n",
    "plt.plot(n_values, times, marker='o')\n",
    "plt.title('Linear Search with Random Data: Time vs Number of Elements')\n",
    "plt.xlabel('Number of Elements (n)')\n",
    "plt.ylabel('Time Taken (seconds)')\n",
    "plt.grid(True)\n",
    "plt.show()\n"
   ]
  }
 ],
 "metadata": {
  "kernelspec": {
   "display_name": "Python 3",
   "language": "python",
   "name": "python3"
  },
  "language_info": {
   "codemirror_mode": {
    "name": "ipython",
    "version": 3
   },
   "file_extension": ".py",
   "mimetype": "text/x-python",
   "name": "python",
   "nbconvert_exporter": "python",
   "pygments_lexer": "ipython3",
   "version": "3.12.8"
  }
 },
 "nbformat": 4,
 "nbformat_minor": 5
}
