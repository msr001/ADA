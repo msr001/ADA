{
 "cells": [
  {
   "cell_type": "code",
   "execution_count": null,
   "id": "476a1759",
   "metadata": {},
   "outputs": [],
   "source": [
    "import time\n",
    "import random\n",
    "import matplotlib.pyplot as plt\n",
    "\n",
    "# Binary search function\n",
    "def binary_search(arr, target):\n",
    "    left = 0\n",
    "    right = len(arr) - 1\n",
    "\n",
    "    while left <= right:\n",
    "        mid = (left + right) // 2\n",
    "        \n",
    "        if arr[mid] == target:\n",
    "            return mid\n",
    "        elif arr[mid] < target:\n",
    "            left = mid + 1\n",
    "        else:\n",
    "            right = mid - 1\n",
    "    return -1\n",
    "\n",
    "# Lists to store n values and corresponding times\n",
    "n_values = []\n",
    "times = []\n",
    "\n",
    "# Repeat experiment for different n\n",
    "for n in range(1000, 10001, 1000):  # n = 1000, 2000, ..., 10000\n",
    "    arr = sorted(random.sample(range(0, n*10), n))  # generate sorted random list\n",
    "    repetitions = 1000  # Repeat 1000 times to get measurable time\n",
    "    total_time = 0\n",
    "\n",
    "    for _ in range(repetitions):\n",
    "        target = random.choice(arr)  # pick a random target from list\n",
    "\n",
    "        start_time = time.perf_counter()\n",
    "        binary_search(arr, target)\n",
    "        end_time = time.perf_counter()\n",
    "\n",
    "        total_time += (end_time - start_time)\n",
    "\n",
    "    avg_time = total_time / repetitions\n",
    "    n_values.append(n)\n",
    "    times.append(avg_time)\n",
    "   \n",
    "# Plotting\n",
    "plt.plot(n_values, times, marker='o')\n",
    "plt.title('Binary Search: Time Taken vs Number of Elements')\n",
    "plt.xlabel('Number of Elements (n)')\n",
    "plt.ylabel('Average Time Taken (seconds)')\n",
    "plt.grid(True)\n",
    "plt.show()\n",
    "\n"
   ]
  }
 ],
 "metadata": {
  "kernelspec": {
   "display_name": "Python 3",
   "language": "python",
   "name": "python3"
  },
  "language_info": {
   "codemirror_mode": {
    "name": "ipython",
    "version": 3
   },
   "file_extension": ".py",
   "mimetype": "text/x-python",
   "name": "python",
   "nbconvert_exporter": "python",
   "pygments_lexer": "ipython3",
   "version": "3.12.8"
  }
 },
 "nbformat": 4,
 "nbformat_minor": 5
}
