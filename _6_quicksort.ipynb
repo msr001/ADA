{
 "cells": [
  {
   "cell_type": "code",
   "execution_count": null,
   "id": "d19ecf5a",
   "metadata": {},
   "outputs": [],
   "source": [
    "import random\n",
    "import time\n",
    "import matplotlib.pyplot as plt\n",
    "\n",
    "def quick_sort(arr):\n",
    "    if len(arr) <= 1:\n",
    "        return arr\n",
    "    pivot = arr[0]\n",
    "    left = [x for x in arr[1:] if x <= pivot]\n",
    "    right = [x for x in arr[1:] if x > pivot]\n",
    "    return quick_sort(left) + [pivot] + quick_sort(right)\n",
    "\n",
    "# Lists to store n and corresponding time\n",
    "n_values = []\n",
    "time_values = []\n",
    "\n",
    "# Try for different n\n",
    "for n in range(100, 1001, 100):\n",
    "    arr = [random.randint(1, 10000) for _ in range(n)]\n",
    "    \n",
    "    start_time = time.time()\n",
    "    quick_sort(arr)\n",
    "    end_time = time.time()\n",
    "    \n",
    "    elapsed_time = end_time - start_time\n",
    "    \n",
    "    n_values.append(n)\n",
    "    time_values.append(elapsed_time)\n",
    "\n",
    "\n",
    "# Plotting time vs n\n",
    "plt.plot(n_values, time_values, marker='o')\n",
    "plt.title(\"Quick Sort: Time vs Number of Elements\")\n",
    "plt.xlabel(\"Number of Elements (n)\")\n",
    "plt.ylabel(\"Time (seconds)\")\n",
    "plt.grid(True)\n",
    "plt.show()\n"
   ]
  },
  {
   "cell_type": "code",
   "execution_count": null,
   "id": "7ea56a9d",
   "metadata": {},
   "outputs": [],
   "source": [
    "def quick_sort(arr):\n",
    "\n",
    "    if len(arr) <= 1:\n",
    "        return arr\n",
    "    pivot = arr[0]\n",
    "    left = [x for x in arr[1:] if x <= pivot]\n",
    "    right = [x for x in arr[1:] if x > pivot]\n",
    "    sorted_left = quick_sort(left)\n",
    "    sorted_right = quick_sort(right)\n",
    "    sorted_array = sorted_left + [pivot] + sorted_right\n",
    "    print(f\"Sorted array: {sorted_array}\")\n",
    "    return sorted_array\n",
    "arr = [4, 7, 2, 8, 1, 3]\n",
    "quick_sort(arr)\n"
   ]
  }
 ],
 "metadata": {
  "kernelspec": {
   "display_name": "Python 3",
   "language": "python",
   "name": "python3"
  },
  "language_info": {
   "codemirror_mode": {
    "name": "ipython",
    "version": 3
   },
   "file_extension": ".py",
   "mimetype": "text/x-python",
   "name": "python",
   "nbconvert_exporter": "python",
   "pygments_lexer": "ipython3",
   "version": "3.12.8"
  }
 },
 "nbformat": 4,
 "nbformat_minor": 5
}
