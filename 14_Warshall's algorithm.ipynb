{
 "cells": [
  {
   "cell_type": "code",
   "execution_count": null,
   "id": "3436119e",
   "metadata": {},
   "outputs": [
    {
     "name": "stdout",
     "output_type": "stream",
     "text": [
      "Topological Order: ['D', 'A', 'B', 'C']\n",
      "Transitive Closure:\n",
      "[1, 1, 1]\n",
      "[0, 1, 1]\n",
      "[0, 0, 1]\n"
     ]
    }
   ],
   "source": [
    "# Topological Sort\n",
    "def topological_sort(graph):\n",
    "    from collections import deque\n",
    "    in_degree = {u: 0 for u in graph}\n",
    "    for u in graph:\n",
    "        for v in graph[u]:\n",
    "            in_degree[v] += 1\n",
    "\n",
    "    queue = deque([u for u in graph if in_degree[u] == 0])\n",
    "    topo_order = []\n",
    "\n",
    "    while queue:\n",
    "        u = queue.popleft()\n",
    "        topo_order.append(u)\n",
    "        for v in graph[u]:\n",
    "            in_degree[v] -= 1\n",
    "            if in_degree[v] == 0:\n",
    "                queue.append(v)\n",
    "\n",
    "    return topo_order\n",
    "\n",
    "# Warshall's Algorithm\n",
    "def warshall(adj):\n",
    "    n = len(adj)\n",
    "    for k in range(n):\n",
    "        for i in range(n):\n",
    "            for j in range(n):\n",
    "                adj[i][j] = adj[i][j] or (adj[i][k] and adj[k][j])\n",
    "    return adj\n",
    "\n",
    "graph = {'A': ['B'], 'B': ['C'], 'C': [], 'D': ['A', 'C']}\n",
    "print(\"Topological Order:\", topological_sort(graph))\n",
    "\n",
    "adj_matrix = [\n",
    "    [1, 1, 0],\n",
    "    [0, 1, 1],\n",
    "    [0, 0, 1]\n",
    "]\n",
    "print(\"Transitive Closure:\")\n",
    "closure = warshall(adj_matrix)\n",
    "for row in closure:\n",
    "    print(row)\n"
   ]
  }
 ],
 "metadata": {
  "kernelspec": {
   "display_name": "Python 3",
   "language": "python",
   "name": "python3"
  },
  "language_info": {
   "codemirror_mode": {
    "name": "ipython",
    "version": 3
   },
   "file_extension": ".py",
   "mimetype": "text/x-python",
   "name": "python",
   "nbconvert_exporter": "python",
   "pygments_lexer": "ipython3",
   "version": "3.12.8"
  }
 },
 "nbformat": 4,
 "nbformat_minor": 5
}
