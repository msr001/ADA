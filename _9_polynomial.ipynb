{
 "cells": [
  {
   "cell_type": "code",
   "execution_count": null,
   "id": "78b827f3",
   "metadata": {},
   "outputs": [
    {
     "name": "stdout",
     "output_type": "stream",
     "text": [
      "Horner’s Rule: 35\n",
      "Time 0.00025010001263581216\n",
      "Brute Force: 35\n",
      "Time  5.2099989261478186e-05\n"
     ]
    }
   ],
   "source": [
    "import time\n",
    "def bf(coef, x):\n",
    "    result = 0\n",
    "    n = len(coef)\n",
    "    for i in range(n):\n",
    "        result += coef[i] * x**(n - i - 1)\n",
    "    return result\n",
    "\n",
    "def horner(coef, x):\n",
    "    result = coef[0]\n",
    "    for c in coef[1:]:\n",
    "        result = result * x + c\n",
    "    return result\n",
    "\n",
    "coef = [2, 3, 1, 5]  \n",
    "x = 2\n",
    "\n",
    "start = time.perf_counter()\n",
    "print(\"Horner’s Rule:\", horner(coef, x))\n",
    "print(\"Time\", time.perf_counter() - start)\n",
    "start = time.perf_counter()\n",
    "print(\"Brute Force:\", bf(coef, x))\n",
    "print(\"Time \", time.perf_counter() - start)"
   ]
  }
 ],
 "metadata": {
  "kernelspec": {
   "display_name": "Python 3",
   "language": "python",
   "name": "python3"
  },
  "language_info": {
   "codemirror_mode": {
    "name": "ipython",
    "version": 3
   },
   "file_extension": ".py",
   "mimetype": "text/x-python",
   "name": "python",
   "nbconvert_exporter": "python",
   "pygments_lexer": "ipython3",
   "version": "3.12.8"
  }
 },
 "nbformat": 4,
 "nbformat_minor": 5
}
