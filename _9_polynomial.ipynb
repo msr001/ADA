{
 "cells": [
  {
   "cell_type": "code",
   "execution_count": 1,
   "id": "51d5adf4",
   "metadata": {},
   "outputs": [
    {
     "name": "stdout",
     "output_type": "stream",
     "text": [
      "Brute-force result: 5\n",
      "Time (Brute-force): 0.00019880000036209822\n",
      "Horner’s Rule result: 5\n",
      "Time (Horner’s Rule): 5.5500000598840415e-05\n"
     ]
    }
   ],
   "source": [
    "import time\n",
    "\n",
    "def brute_force(poly, x):\n",
    "    result = 0\n",
    "    n = len(poly)\n",
    "    for i in range(n):\n",
    "        result += poly[i] * (x ** (n - i - 1))\n",
    "    return result\n",
    "\n",
    "def horner(poly, x):\n",
    "    result = poly[0]\n",
    "    for i in range(1, len(poly)):\n",
    "        result = result * x + poly[i]\n",
    "    return result\n",
    "\n",
    "poly = [2, -6, 2, -1]  # 2x^3 - 6x^2 + 2x - 1\n",
    "x = 3\n",
    "\n",
    "start = time.perf_counter()\n",
    "print(\"Brute-force result:\", brute_force(poly, x))\n",
    "print(\"Time (Brute-force):\", time.perf_counter() - start)\n",
    "\n",
    "start = time.perf_counter()\n",
    "print(\"Horner’s Rule result:\", horner(poly, x))\n",
    "print(\"Time (Horner’s Rule):\", time.perf_counter() - start)"
   ]
  }
 ],
 "metadata": {
  "kernelspec": {
   "display_name": "Python 3",
   "language": "python",
   "name": "python3"
  },
  "language_info": {
   "codemirror_mode": {
    "name": "ipython",
    "version": 3
   },
   "file_extension": ".py",
   "mimetype": "text/x-python",
   "name": "python",
   "nbconvert_exporter": "python",
   "pygments_lexer": "ipython3",
   "version": "3.12.8"
  }
 },
 "nbformat": 4,
 "nbformat_minor": 5
}
