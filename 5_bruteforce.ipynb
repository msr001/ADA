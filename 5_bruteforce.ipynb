{
 "cells": [
  {
   "cell_type": "code",
   "execution_count": 31,
   "id": "ba371fc0",
   "metadata": {},
   "outputs": [
    {
     "name": "stdout",
     "output_type": "stream",
     "text": [
      "Brute force result 1024\n"
     ]
    }
   ],
   "source": [
    "def powerbruteforce(a,n):\n",
    "    result  = 1\n",
    "    for _ in range(n):\n",
    "        result *=a\n",
    "    return result\n",
    "a  = 2\n",
    "n = 10\n",
    "print(\"Brute force result\", powerbruteforce(a,n))"
   ]
  },
  {
   "cell_type": "code",
   "execution_count": 32,
   "id": "c3f35d44",
   "metadata": {},
   "outputs": [
    {
     "name": "stdout",
     "output_type": "stream",
     "text": [
      "Divide and conquer result 1024\n"
     ]
    }
   ],
   "source": [
    "def powerbruteforce(a,n):\n",
    "    if n == 0:\n",
    "        return 1\n",
    "    elif n%2 == 0:\n",
    "        half_power = powerbruteforce(a,n//2)\n",
    "        return half_power*half_power\n",
    "    else:\n",
    "        half_power = powerbruteforce(a,(n-1)//2)\n",
    "        return a*half_power*half_power\n",
    "a = 2\n",
    "n = 10 \n",
    "print('Divide and conquer result', powerbruteforce(a,n))"
   ]
  }
 ],
 "metadata": {
  "kernelspec": {
   "display_name": "Python 3",
   "language": "python",
   "name": "python3"
  },
  "language_info": {
   "codemirror_mode": {
    "name": "ipython",
    "version": 3
   },
   "file_extension": ".py",
   "mimetype": "text/x-python",
   "name": "python",
   "nbconvert_exporter": "python",
   "pygments_lexer": "ipython3",
   "version": "3.12.8"
  }
 },
 "nbformat": 4,
 "nbformat_minor": 5
}
