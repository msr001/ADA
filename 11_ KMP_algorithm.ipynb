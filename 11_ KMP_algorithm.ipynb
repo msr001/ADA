{
 "cells": [
  {
   "cell_type": "code",
   "execution_count": 1,
   "id": "0c44608f",
   "metadata": {},
   "outputs": [
    {
     "name": "stdout",
     "output_type": "stream",
     "text": [
      "Pattern found at index 10\n"
     ]
    }
   ],
   "source": [
    "def compute_lps(pattern):\n",
    "    lps = [0] * len(pattern)\n",
    "    length = 0\n",
    "    i = 1\n",
    "\n",
    "    while i < len(pattern):\n",
    "        if pattern[i] == pattern[length]:\n",
    "            length += 1\n",
    "            lps[i] = length\n",
    "            i += 1\n",
    "        else:\n",
    "            if length != 0:\n",
    "                length = lps[length - 1]\n",
    "            else:\n",
    "                lps[i] = 0\n",
    "                i += 1\n",
    "    return lps\n",
    "\n",
    "def kmp(text, pattern):\n",
    "    lps = compute_lps(pattern)\n",
    "    i = j = 0\n",
    "\n",
    "    while i < len(text):\n",
    "        if pattern[j] == text[i]:\n",
    "            i += 1\n",
    "            j += 1\n",
    "\n",
    "        if j == len(pattern):\n",
    "            print(\"Pattern found at index\", i - j)\n",
    "            j = lps[j - 1]\n",
    "        elif i < len(text) and pattern[j] != text[i]:\n",
    "            if j != 0:\n",
    "                j = lps[j - 1]\n",
    "            else:\n",
    "                i += 1\n",
    "\n",
    "kmp(\"ABABDABACDABABCABAB\", \"ABABCABAB\")"
   ]
  }
 ],
 "metadata": {
  "kernelspec": {
   "display_name": "Python 3",
   "language": "python",
   "name": "python3"
  },
  "language_info": {
   "codemirror_mode": {
    "name": "ipython",
    "version": 3
   },
   "file_extension": ".py",
   "mimetype": "text/x-python",
   "name": "python",
   "nbconvert_exporter": "python",
   "pygments_lexer": "ipython3",
   "version": "3.12.8"
  }
 },
 "nbformat": 4,
 "nbformat_minor": 5
}
