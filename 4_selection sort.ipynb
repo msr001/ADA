{
 "cells": [
  {
   "cell_type": "code",
   "execution_count": null,
   "id": "9d2b8568",
   "metadata": {},
   "outputs": [],
   "source": [
    "import time\n",
    "import random\n",
    "import matplotlib.pyplot as plt\n",
    "\n",
    "\n",
    "def selection_sort(arr):\n",
    "    n = len(arr)\n",
    "    for i in range(n):\n",
    "        min_index = i\n",
    "        for j in range(i+1,n):\n",
    "            if arr[j] < arr[min_index]:\n",
    "                arr[min_index] = j\n",
    "                \n",
    "        arr[i],arr[min_index] = arr[min_index], arr[i]\n",
    "\n",
    "\n",
    "n_values = []\n",
    "times =[]\n",
    "\n",
    "\n",
    "for n in range(100,1001,100):\n",
    "    sample_array = random.sample(range(0, n*10),n)\n",
    "    \n",
    "    start_time = time.perf_counter()\n",
    "    selection_sort(sample_array)\n",
    "    end_time = time.perf_counter()\n",
    "    \n",
    "    elapsed_time = end_time - start_time\n",
    "    n_values.append(n)\n",
    "    times.append(elapsed_time)\n",
    "    \n",
    "plt.plot(n_values,times,marker = 'o')\n",
    "plt.title(\"selection sort: time vs number of elements\")\n",
    "plt.xlabel(\"Number of elements n\")\n",
    "plt.ylabel(\"time taken in seconds\")\n",
    "plt.grid(True)\n",
    "plt.show()\n",
    "    "
   ]
  }
 ],
 "metadata": {
  "kernelspec": {
   "display_name": "Python 3",
   "language": "python",
   "name": "python3"
  },
  "language_info": {
   "codemirror_mode": {
    "name": "ipython",
    "version": 3
   },
   "file_extension": ".py",
   "mimetype": "text/x-python",
   "name": "python",
   "nbconvert_exporter": "python",
   "pygments_lexer": "ipython3",
   "version": "3.12.8"
  }
 },
 "nbformat": 4,
 "nbformat_minor": 5
}
