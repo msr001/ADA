{
 "cells": [
  {
   "cell_type": "code",
   "execution_count": 1,
   "id": "5e8234de",
   "metadata": {},
   "outputs": [
    {
     "name": "stdout",
     "output_type": "stream",
     "text": [
      "tp ['D', 'A', 'B', 'C']\n"
     ]
    }
   ],
   "source": [
    "def tp(node,visited,stack,graph):\n",
    "    visited.add(node)\n",
    "    for neigh in graph[node]:\n",
    "        if neigh not in visited:\n",
    "            tp(neigh,visited,stack,graph)\n",
    "    stack.append(node)\n",
    "\n",
    "visited= set()\n",
    "stack=[]\n",
    "graph = {\n",
    "    'A': ['B'],\n",
    "    'B': ['C'],\n",
    "    'C': [],\n",
    "    'D': ['A', 'C']\n",
    "}\n",
    "\n",
    "for node in graph:\n",
    "    if node not in visited:\n",
    "        tp(node,visited,stack,graph)\n",
    "\n",
    "print(\"tp\",stack[::-1])"
   ]
  }
 ],
 "metadata": {
  "kernelspec": {
   "display_name": "Python 3",
   "language": "python",
   "name": "python3"
  },
  "language_info": {
   "codemirror_mode": {
    "name": "ipython",
    "version": 3
   },
   "file_extension": ".py",
   "mimetype": "text/x-python",
   "name": "python",
   "nbconvert_exporter": "python",
   "pygments_lexer": "ipython3",
   "version": "3.12.8"
  }
 },
 "nbformat": 4,
 "nbformat_minor": 5
}
