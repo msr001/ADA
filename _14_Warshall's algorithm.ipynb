{
 "cells": [
  {
   "cell_type": "code",
   "execution_count": null,
   "id": "7330225b",
   "metadata": {},
   "outputs": [],
   "source": [
    "def topological_sort(node, visited, stack, graph):\n",
    "    visited.add(node)\n",
    "    for neighbor in graph[node]:\n",
    "        if neighbor not in visited:\n",
    "            topological_sort(neighbor, visited, stack, graph)\n",
    "    stack.append(node)\n",
    "\n",
    "# Your graph\n",
    "graph = {\n",
    "    'A': ['B'],\n",
    "    'B': ['C'],\n",
    "    'C': [],\n",
    "    'D': ['A', 'C']\n",
    "}\n",
    "\n",
    "visited = set()\n",
    "stack = []\n",
    "\n",
    "for node in graph:\n",
    "    if node not in visited:\n",
    "        topological_sort(node, visited, stack, graph)\n",
    "\n",
    "# Reverse the stack to get the order\n",
    "print(\"Topological Order:\", stack[::-1])"
   ]
  }
 ],
 "metadata": {
  "kernelspec": {
   "display_name": "Python 3",
   "language": "python",
   "name": "python3"
  },
  "language_info": {
   "codemirror_mode": {
    "name": "ipython",
    "version": 3
   },
   "file_extension": ".py",
   "mimetype": "text/x-python",
   "name": "python",
   "nbconvert_exporter": "python",
   "pygments_lexer": "ipython3",
   "version": "3.12.8"
  }
 },
 "nbformat": 4,
 "nbformat_minor": 5
}
