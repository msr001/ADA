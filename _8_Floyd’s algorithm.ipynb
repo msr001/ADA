{
 "cells": [
  {
   "cell_type": "code",
   "execution_count": 1,
   "id": "3716377e",
   "metadata": {},
   "outputs": [
    {
     "name": "stdout",
     "output_type": "stream",
     "text": [
      "All-pairs shortest path matrix:\n",
      "[0, 3, 7, 5]\n",
      "[2, 0, 6, 4]\n",
      "[3, 1, 0, 5]\n",
      "[5, 3, 2, 0]\n"
     ]
    }
   ],
   "source": [
    "# 8\n",
    "def floyd_warshall(graph):\n",
    "    V = len(graph)\n",
    "    dist = [row[:] for row in graph]  # Deep copy\n",
    "\n",
    "    for k in range(V):\n",
    "        for i in range(V):\n",
    "            for j in range(V):\n",
    "                if dist[i][k] + dist[k][j] < dist[i][j]:\n",
    "                    dist[i][j] = dist[i][k] + dist[k][j]\n",
    "\n",
    "    return dist\n",
    "\n",
    "INF = float('inf')\n",
    "graph = [\n",
    "    [0, 3, INF, 5],\n",
    "    [2, 0, INF, 4],\n",
    "    [INF, 1, 0, INF],\n",
    "    [INF, INF, 2, 0]\n",
    "]\n",
    "\n",
    "shortest_paths = floyd_warshall(graph)\n",
    "print(\"All-pairs shortest path matrix:\")\n",
    "for row in shortest_paths:\n",
    "    print(row)\n"
   ]
  }
 ],
 "metadata": {
  "kernelspec": {
   "display_name": "Python 3",
   "language": "python",
   "name": "python3"
  },
  "language_info": {
   "codemirror_mode": {
    "name": "ipython",
    "version": 3
   },
   "file_extension": ".py",
   "mimetype": "text/x-python",
   "name": "python",
   "nbconvert_exporter": "python",
   "pygments_lexer": "ipython3",
   "version": "3.12.8"
  }
 },
 "nbformat": 4,
 "nbformat_minor": 5
}
