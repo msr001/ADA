{
 "cells": [
  {
   "cell_type": "code",
   "execution_count": null,
   "id": "19e0ce79",
   "metadata": {},
   "outputs": [
    {
     "name": "stdout",
     "output_type": "stream",
     "text": [
      "Subsets with sum 10 are:\n",
      "[2, 8]\n"
     ]
    }
   ],
   "source": [
    "def subset_sum(S, target):\n",
    "    result = []\n",
    "\n",
    "    def backtrack(start, path, total):\n",
    "        if total == target:\n",
    "            result.append(path)\n",
    "            return\n",
    "        if total > target:\n",
    "            return\n",
    "        for i in range(start, len(S)):\n",
    "            backtrack(i + 1, path + [S[i]], total + S[i])\n",
    "\n",
    "    backtrack(0, [], 0)\n",
    "\n",
    "    if result:\n",
    "        print(\"Subsets with sum\", target, \"are:\")\n",
    "        for subset in result:\n",
    "            print(subset)\n",
    "    else:\n",
    "        print(\"No subset found with sum\", target)\n",
    "\n",
    "# Example usage\n",
    "S = [1, 2, 5, 6, 8]\n",
    "d = 10\n",
    "subset_sum(S, d)"
   ]
  }
 ],
 "metadata": {
  "kernelspec": {
   "display_name": "Python 3",
   "language": "python",
   "name": "python3"
  },
  "language_info": {
   "codemirror_mode": {
    "name": "ipython",
    "version": 3
   },
   "file_extension": ".py",
   "mimetype": "text/x-python",
   "name": "python",
   "nbconvert_exporter": "python",
   "pygments_lexer": "ipython3",
   "version": "3.12.8"
  }
 },
 "nbformat": 4,
 "nbformat_minor": 5
}
