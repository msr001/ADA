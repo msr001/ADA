{
 "cells": [
  {
   "cell_type": "code",
   "execution_count": 1,
   "id": "6e6a965d",
   "metadata": {},
   "outputs": [
    {
     "name": "stdout",
     "output_type": "stream",
     "text": [
      "Pattern found at index 4\n"
     ]
    },
    {
     "data": {
      "text/plain": [
       "{'A': 0, 'B': 1, 'C': 2}"
      ]
     },
     "execution_count": 1,
     "metadata": {},
     "output_type": "execute_result"
    }
   ],
   "source": [
    "def bad_char_table(pattern):\n",
    "    table = {}\n",
    "    for i in range(len(pattern)):\n",
    "        table[pattern[i]] = i\n",
    "    return table\n",
    "\n",
    "def boyer_moore(text, pattern):\n",
    "    m, n = len(pattern), len(text)\n",
    "    table = bad_char_table(pattern)\n",
    "    i = 0\n",
    "\n",
    "    while i <= n - m:\n",
    "        j = m - 1\n",
    "        while j >= 0 and pattern[j] == text[i + j]:\n",
    "            j -= 1\n",
    "        if j < 0:\n",
    "            print(\"Pattern found at index\", i)\n",
    "            i += m - table.get(text[i + m], -1) if i + m < n else 1\n",
    "        else:\n",
    "            i += max(1, j - table.get(text[i + j], -1))\n",
    "\n",
    "boyer_moore(\"ABAAABCD\", \"ABC\")\n",
    "bad_char_table( \"ABC\")\n"
   ]
  }
 ],
 "metadata": {
  "kernelspec": {
   "display_name": "Python 3",
   "language": "python",
   "name": "python3"
  },
  "language_info": {
   "codemirror_mode": {
    "name": "ipython",
    "version": 3
   },
   "file_extension": ".py",
   "mimetype": "text/x-python",
   "name": "python",
   "nbconvert_exporter": "python",
   "pygments_lexer": "ipython3",
   "version": "3.12.8"
  }
 },
 "nbformat": 4,
 "nbformat_minor": 5
}
