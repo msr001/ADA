{
 "cells": [
  {
   "cell_type": "code",
   "execution_count": 1,
   "id": "b7cb6416",
   "metadata": {},
   "outputs": [
    {
     "name": "stdout",
     "output_type": "stream",
     "text": [
      "Minimum Spanning Tree Cost: 4\n"
     ]
    }
   ],
   "source": [
    "import heapq\n",
    "\n",
    "def prim(graph, start):\n",
    "    visited = set()\n",
    "    min_heap = [(0, start)]\n",
    "    mst_cost = 0\n",
    "\n",
    "    while min_heap:\n",
    "        cost, node = heapq.heappop(min_heap)\n",
    "        if node not in visited:\n",
    "            visited.add(node)\n",
    "            mst_cost += cost\n",
    "            for neighbor, weight in graph[node]:\n",
    "                if neighbor not in visited:\n",
    "                    heapq.heappush(min_heap, (weight, neighbor))\n",
    "\n",
    "    return mst_cost\n",
    "\n",
    "graph = {\n",
    "    'A': [('B', 1), ('C', 3)],\n",
    "    'B': [('A', 1), ('C', 1), ('D', 6)],\n",
    "    'C': [('A', 3), ('B', 1), ('D', 2)],\n",
    "    'D': [('B', 6), ('C', 2)]\n",
    "}\n",
    "print(\"Minimum Spanning Tree Cost:\", prim(graph, 'A'))"
   ]
  }
 ],
 "metadata": {
  "kernelspec": {
   "display_name": "Python 3",
   "language": "python",
   "name": "python3"
  },
  "language_info": {
   "codemirror_mode": {
    "name": "ipython",
    "version": 3
   },
   "file_extension": ".py",
   "mimetype": "text/x-python",
   "name": "python",
   "nbconvert_exporter": "python",
   "pygments_lexer": "ipython3",
   "version": "3.12.8"
  }
 },
 "nbformat": 4,
 "nbformat_minor": 5
}
