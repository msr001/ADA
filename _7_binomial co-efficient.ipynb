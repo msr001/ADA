{
 "cells": [
  {
   "cell_type": "code",
   "execution_count": 12,
   "id": "800e0c36",
   "metadata": {},
   "outputs": [
    {
     "name": "stdout",
     "output_type": "stream",
     "text": [
      "Brute-force C(5, 2) = 10\n",
      "Simplified DP C(5, 3) = 10\n"
     ]
    }
   ],
   "source": [
    "def binomial(n,k):\n",
    "    if k ==0 or k == n:\n",
    "        return 1\n",
    "    return binomial(n-1,k-1) + binomial(n-1,k)\n",
    "n,k = 5,2\n",
    "print(f\"Brute-force C({n}, {k}) =\", binomial(n, k))\n",
    "\n",
    "\n",
    "def binomial_coefficient_2d(n, k):\n",
    "    C = [[0 for _ in range(k + 1)] for _ in range(n + 1)]\n",
    "\n",
    "    for i in range(n + 1):\n",
    "        for j in range(min(i, k) + 1):\n",
    "            if j == 0 or j == i:\n",
    "                C[i][j] = 1\n",
    "            else:\n",
    "                C[i][j] = C[i - 1][j - 1] + C[i - 1][j]\n",
    "    return C[n][k]\n",
    "n=5\n",
    "k=3\n",
    "print(f\"Simplified DP C({n}, {k}) =\", binomial_coefficient_2d(n, k))"
   ]
  }
 ],
 "metadata": {
  "kernelspec": {
   "display_name": "Python 3",
   "language": "python",
   "name": "python3"
  },
  "language_info": {
   "codemirror_mode": {
    "name": "ipython",
    "version": 3
   },
   "file_extension": ".py",
   "mimetype": "text/x-python",
   "name": "python",
   "nbconvert_exporter": "python",
   "pygments_lexer": "ipython3",
   "version": "3.12.8"
  }
 },
 "nbformat": 4,
 "nbformat_minor": 5
}
