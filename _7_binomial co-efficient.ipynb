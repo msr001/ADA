{
 "cells": [
  {
   "cell_type": "code",
   "execution_count": null,
   "id": "dc9ffda6",
   "metadata": {},
   "outputs": [
    {
     "name": "stdout",
     "output_type": "stream",
     "text": [
      "Brute-force C(5, 2) = 10\n",
      "Simplified DP C(5, 2) = 10\n"
     ]
    }
   ],
   "source": [
    "# 7\n",
    "def binomial_recursive(n, k):\n",
    "    if k == 0 or k == n:\n",
    "        return 1\n",
    "    return binomial_recursive(n - 1, k - 1) + binomial_recursive(n - 1, k)\n",
    "\n",
    "# Example usage:\n",
    "n, k = 5, 2\n",
    "print(f\"Brute-force C({n}, {k}) =\", binomial_recursive(n, k))\n",
    "\n",
    "def binomial_dp(n, k):\n",
    "    # Create a 1D array to store intermediate results\n",
    "    C = [0] * (k + 1)\n",
    "    C[0] = 1  # C(n, 0) is always 1\n",
    "\n",
    "    for i in range(1, n + 1):\n",
    "        # Compute next row of Pascal's triangle from right to left\n",
    "        for j in range(min(i, k), 0, -1):\n",
    "            C[j] = C[j] + C[j - 1]\n",
    "\n",
    "    return C[k]\n",
    "\n",
    "# Example usage\n",
    "n, k = 5, 2\n",
    "print(f\"Simplified DP C({n}, {k}) =\", binomial_dp(n, k))"
   ]
  },
  {
   "cell_type": "code",
   "execution_count": 12,
   "id": "800e0c36",
   "metadata": {},
   "outputs": [
    {
     "name": "stdout",
     "output_type": "stream",
     "text": [
      "1\n"
     ]
    }
   ],
   "source": [
    "def binomial(n,k):\n",
    "    if k ==0 or k == n:\n",
    "        return 1\n",
    "    return binomial(n-1,k-1) + binomial(n-1,k)\n",
    "n,k = 5,5\n",
    "print(binomial(n,k))"
   ]
  }
 ],
 "metadata": {
  "kernelspec": {
   "display_name": "Python 3",
   "language": "python",
   "name": "python3"
  },
  "language_info": {
   "codemirror_mode": {
    "name": "ipython",
    "version": 3
   },
   "file_extension": ".py",
   "mimetype": "text/x-python",
   "name": "python",
   "nbconvert_exporter": "python",
   "pygments_lexer": "ipython3",
   "version": "3.12.8"
  }
 },
 "nbformat": 4,
 "nbformat_minor": 5
}
